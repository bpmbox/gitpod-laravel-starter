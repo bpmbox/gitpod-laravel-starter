{
 "cells": [
  {
   "cell_type": "code",
   "execution_count": 1,
   "metadata": {},
   "outputs": [
    {
     "name": "stdout",
     "output_type": "stream",
     "text": [
      "      店舗   売上額  競合店  満足度  商品の充実度\n",
      "0    赤坂店  7990    0    4       4\n",
      "1    溜池店  8420    1    4       5\n",
      "2    広尾店  3950    3    2       3\n",
      "3    麻布店  6870    2    4       4\n",
      "4   麻布十番  4520    3    3       2\n",
      "5   恵比寿店  3480    2    3       3\n",
      "6    高輪店  8900    0    4       4\n",
      "7   西五反田  6280    1    3       3\n",
      "8   東五反田  8180    1    3       4\n",
      "9   不動前店  5330    1    3       3\n",
      "10   飯倉店  3090    2    2       3\n",
      "11   渋谷店  8600    0    3       4\n",
      "12  中目黒店  3880    1    3       2\n",
      "13  南青山店  7400    3    4       3\n",
      "14  北青山店  4540    3    3       3\n",
      "15  芝公園店  3450    2    3       3\n",
      "16  泉岳寺店  2350    3    2       2\n",
      "17  乃木坂店  8510    1    4       4\n",
      "18  表参道店  4450    3    3       3\n",
      "19  神宮前店  5320    2    3       2\n"
     ]
    }
   ],
   "source": [
    "# sales.csvをデータフレームに読み込んで出力\n",
    "\n",
    "import pandas as pd\n",
    "# ファイルを読み込んでdfに格納\n",
    "df = pd.read_csv('sales.csv', encoding='cp932')\n",
    "print(df)"
   ]
  },
  {
   "cell_type": "code",
   "execution_count": 2,
   "metadata": {},
   "outputs": [
    {
     "name": "stdout",
     "output_type": "stream",
     "text": [
      "競合店\n",
      " [[ 1.        -0.6692924]\n",
      " [-0.6692924  1.       ]]\n",
      "満足度\n",
      " [[1.         0.77567537]\n",
      " [0.77567537 1.        ]]\n",
      "商品の充実度\n",
      " [[1.         0.78037688]\n",
      " [0.78037688 1.        ]]\n"
     ]
    }
   ],
   "source": [
    "# 3項目の要因の相関係数を調べる\n",
    "\n",
    "import pandas as pd\n",
    "import numpy as np\n",
    "from sklearn import linear_model\n",
    "\n",
    "# ファイルを読み込んでdfに格納\n",
    "df = pd.read_csv('sales.csv', encoding='cp932')\n",
    "\n",
    "# 競合店の数と売上額の相関係数を求める\n",
    "print('競合店\\n', np.corrcoef(df['競合店'], df['売上額']))            \n",
    "# 顧客満足度と売上額の相関係数を求める\n",
    "print('満足度\\n', np.corrcoef(df['満足度'], df['売上額']))            \n",
    "# 商品充実度と売上額の相関係数を求める\n",
    "print('商品の充実度\\n', np.corrcoef(df['商品の充実度'], df['売上額'])) "
   ]
  },
  {
   "cell_type": "code",
   "execution_count": 3,
   "metadata": {},
   "outputs": [
    {
     "name": "stdout",
     "output_type": "stream",
     "text": [
      "回帰係数: [-534.36299509 1413.39831276  942.08283685]\n",
      "切片　　: -782.952671464659\n",
      "決定係数: 0.8024493365630474\n"
     ]
    }
   ],
   "source": [
    "# すべての説明変数を使って重回帰分析を行う\n",
    "\n",
    "import pandas as pd\n",
    "import numpy as np\n",
    "from sklearn import linear_model\n",
    "\n",
    "# ファイルを読み込んでdfに格納\n",
    "df = pd.read_csv('sales.csv', encoding='cp932') \n",
    "\n",
    "x = df.iloc[:, 2:5]                     # 競合店、満足度、商品の充実度の列\n",
    "y = df['売上額']                        # 売上額の列\n",
    "model = linear_model.LinearRegression() # LinearRegressionオブジェクトを生成\n",
    "model.fit(x, y)                         # 線形重回帰分析を実行\n",
    "\n",
    "print('回帰係数:', model.coef_)         # 係数aを取得\n",
    "print('切片　　:', model.intercept_)    # 切片bを取得\n",
    "print('決定係数:', model.score(x, y))   # 決定係数を取得"
   ]
  },
  {
   "cell_type": "code",
   "execution_count": 4,
   "metadata": {},
   "outputs": [
    {
     "data": {
      "text/plain": [
       "Text(0, 0.5, 'predict(y)')"
      ]
     },
     "execution_count": 4,
     "metadata": {},
     "output_type": "execute_result"
    },
    {
     "data": {
      "image/png": "[encoded data removed]",
      "text/plain": [
       "<Figure size 432x288 with 1 Axes>"
      ]
     },
     "metadata": {
      "needs_background": "light"
     },
     "output_type": "display_data"
    }
   ],
   "source": [
    "# 散布図を描画して回帰直線を引く\n",
    "\n",
    "from matplotlib import pyplot as plt\n",
    "%matplotlib inline\n",
    "\n",
    "predict = model.predict(x)\n",
    "# x=yの直線を描画\n",
    "plt.plot(np.linspace(min(y),max(y)), # x軸: yの値\n",
    "         np.linspace(min(y),max(y))  # y軸: yの値\n",
    "         )\n",
    "# 実測値をヨコ軸、予測値をタテ軸にとった散布図を描画\n",
    "plt.plot(y,                          # x軸: yの値\n",
    "         predict,                    # y軸: 予測値\n",
    "         'o'\n",
    "        )\n",
    "plt.xlabel('y')                      # x軸ラベル\n",
    "plt.ylabel('predict(y)')             # y軸ラベル"
   ]
  }
 ],
 "metadata": {
  "kernelspec": {
   "display_name": "Python 3",
   "language": "python",
   "name": "python3"
  },
  "language_info": {
   "codemirror_mode": {
    "name": "ipython",
    "version": 3
   },
   "file_extension": ".py",
   "mimetype": "text/x-python",
   "name": "python",
   "nbconvert_exporter": "python",
   "pygments_lexer": "ipython3",
   "version": "3.6.12"
  }
 },
 "nbformat": 4,
 "nbformat_minor": 2
}
