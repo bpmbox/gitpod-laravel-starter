{
 "cells": [
  {
   "cell_type": "code",
   "execution_count": 1,
   "metadata": {},
   "outputs": [
    {
     "name": "stdout",
     "output_type": "stream",
     "text": [
      "ネコの絵も 謎は深まるナスカ\n",
      "人ごとじゃない コロナ再増加\n",
      "毒ガスのよう 香害に苦しむ声\n",
      "「誰も頼れず」産後うつ倍増\n",
      "歯ぎしり 放置して大丈夫?\n",
      "頭に謎の物体 古代文明と市民\n",
      "改善しない巻き爪 医師が解説\n",
      "がん 死亡直前まで4割が痛み\n"
     ]
    }
   ],
   "source": [
    "# 「Yahoo!ニュース」が配信するRSSからヘッドラインを抜き出す\n",
    "\n",
    "import requests\n",
    "from bs4 import BeautifulSoup                                        # ①\n",
    "\n",
    "xml = requests.get('http://news.yahoo.co.jp/pickup/science/rss.xml')  # ②\n",
    "soup = BeautifulSoup(xml.text, 'html.parser')                         # ③\n",
    "for news in soup.findAll('item'):                                    # ④\n",
    "    print(news.title.string)                                          # ⑤"
   ]
  },
  {
   "cell_type": "code",
   "execution_count": null,
   "metadata": {},
   "outputs": [],
   "source": []
  }
 ],
 "metadata": {
  "kernelspec": {
   "display_name": "Python 3",
   "language": "python",
   "name": "python3"
  },
  "language_info": {
   "codemirror_mode": {
    "name": "ipython",
    "version": 3
   },
   "file_extension": ".py",
   "mimetype": "text/x-python",
   "name": "python",
   "nbconvert_exporter": "python",
   "pygments_lexer": "ipython3",
   "version": "3.6.12"
  }
 },
 "nbformat": 4,
 "nbformat_minor": 2
}
