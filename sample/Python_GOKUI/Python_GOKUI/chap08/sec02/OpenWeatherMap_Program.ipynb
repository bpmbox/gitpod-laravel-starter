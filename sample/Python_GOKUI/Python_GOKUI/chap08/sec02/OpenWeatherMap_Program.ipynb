{
 "cells": [
  {
   "cell_type": "code",
   "execution_count": 1,
   "metadata": {},
   "outputs": [
    {
     "name": "stdout",
     "output_type": "stream",
     "text": [
      "天気予報を知りたい地域をどうぞ＞Sendai\n",
      "12時間ごとの天気予報です!\n",
      "【2020-11-01 21:00:00】厚い雲\n",
      "【2020-11-02 09:00:00】小雨\n",
      "【2020-11-02 21:00:00】雲\n",
      "【2020-11-03 09:00:00】小雨\n",
      "【2020-11-03 21:00:00】小雨\n",
      "【2020-11-04 09:00:00】晴天\n",
      "【2020-11-04 21:00:00】晴天\n",
      "【2020-11-05 09:00:00】晴天\n",
      "【2020-11-05 21:00:00】曇りがち\n",
      "【2020-11-06 09:00:00】厚い雲\n",
      "\n"
     ]
    }
   ],
   "source": [
    "import requests\n",
    "\n",
    "# 対象の地域を取得(地域名はアルファベット表記)\n",
    "place = input('天気予報を知りたい地域をどうぞ＞')\n",
    "\n",
    "if place:\n",
    "    API_KEY = 'APIキー'\n",
    "    # OpenWeatherMapのAPIのURL\n",
    "    URL = 'http://api.openweathermap.org/data/2.5/'\n",
    "    # 地域を指定\n",
    "    pl = place\n",
    "    # 天気予報のデータを取得\n",
    "    data = requests.get(URL + 'forecast?lang=ja&q=' + pl + '&appid=' + API_KEY).json()\n",
    "\n",
    "    # 3時間毎の予報を取り出し回数のカウンター\n",
    "    i = 0\n",
    "    # 冒頭に出力するメッセージ\n",
    "    forecast = '12時間ごとの天気予報です!\\n'\n",
    "    # 取得したデータに'list'キーが存在すれば予報データをすべて取り出す\n",
    "    if 'list' in data:\n",
    "        # 12時間毎の天気予報を取得する\n",
    "        for d in data['list']:\n",
    "            if (i + 1) % 4 == 0:\n",
    "                # 'dt_txt'キーで予報対象の日時を取り出す\n",
    "                # 'weather'キーのリストのインデックス0に格納されている辞書から\n",
    "                # 'description'キーの値(天気予報)を取り出す\n",
    "                forecast += '【' + d['dt_txt'] + '】' \\\n",
    "                         + d['weather'][0]['description'] + '\\n'\n",
    "            i = i + 1\n",
    "    else:\n",
    "        # 指定した地域の天気予報が返されない場合\n",
    "        forecast = '指定した地域には対応していません'\n",
    "\n",
    "    print(forecast)"
   ]
  },
  {
   "cell_type": "code",
   "execution_count": null,
   "metadata": {},
   "outputs": [],
   "source": []
  }
 ],
 "metadata": {
  "kernelspec": {
   "display_name": "Python 3",
   "language": "python",
   "name": "python3"
  },
  "language_info": {
   "codemirror_mode": {
    "name": "ipython",
    "version": 3
   },
   "file_extension": ".py",
   "mimetype": "text/x-python",
   "name": "python",
   "nbconvert_exporter": "python",
   "pygments_lexer": "ipython3",
   "version": "3.6.12"
  }
 },
 "nbformat": 4,
 "nbformat_minor": 4
}
