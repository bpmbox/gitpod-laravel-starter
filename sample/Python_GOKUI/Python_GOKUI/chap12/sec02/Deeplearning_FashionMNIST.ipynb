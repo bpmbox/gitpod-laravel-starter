{
 "cells": [
  {
   "cell_type": "code",
   "execution_count": 1,
   "metadata": {},
   "outputs": [],
   "source": [
    "# Fashion-MNISTデータセットを前処理する。\n",
    "\n",
    "from tensorflow.keras.datasets import fashion_mnist\n",
    "from tensorflow.keras import utils\n",
    "\n",
    "# データを変数に格納する。\n",
    "(x_train, y_train), (x_test, y_test) = fashion_mnist.load_data()\n",
    "\n",
    "# データの前処理\n",
    "# (60000, 28, 28)の3階テンソルを(60000, 784)の2階テンソルに変換。\n",
    "x_train = x_train.reshape(60000, 784)\n",
    "# (10000, 28, 28)の3階テンソルを(10000, 784)の2階テンソルに変換。\n",
    "x_test = x_test.reshape(10000, 784)\n",
    "\n",
    "# データを255.0で割って0から1.0の範囲に変換。\n",
    "x_train = x_train/255.0\n",
    "# データを255.0で割って0から1.0の範囲に変換。\n",
    "x_test = x_test/255.0\n",
    "\n",
    "# 正解ラベルのクラス数\n",
    "num_classes = 10\n",
    "# 訓練データの正解ラベルをワンホット符号化法で変換。\n",
    "y_train = utils.to_categorical(y_train, num_classes)\n",
    "# テストデータの正解ラベルをンホット符号化法で変換。\n",
    "y_test = utils.to_categorical(y_test, num_classes)"
   ]
  },
  {
   "cell_type": "code",
   "execution_count": 2,
   "metadata": {},
   "outputs": [],
   "source": [
    "## ニューラルネットワークの作成 ##\n",
    "\n",
    "from tensorflow.keras.models import Sequential\n",
    "from tensorflow.keras.layers import Dense, Dropout\n",
    "from tensorflow.keras.optimizers import Adam\n",
    "\n",
    "model = Sequential()                 # ニューラルネットワークの基になるオブジェクトを生成\n",
    "\n",
    "# 第1層の作成\n",
    "model.add(Dense(512,                 # 第1層のニューロン数は512\n",
    "                input_shape=(784,),  # 第0層のデータ形状は要素数784の1次元配列\n",
    "                activation='relu'    # 活性化関数はReLU\n",
    "                ))\n",
    "# 第1層の次にドロップアウトを実装\n",
    "model.add(Dropout(rate=0.25))         # ドロップアウト率を25パーセントにする\n",
    "\n",
    "# 第2層の作成\n",
    "model.add(Dense(512,                 # 第2層のニューロン数は512。\n",
    "                input_shape=(784,),  # 第0層のデータ形状は要素数784の1次元配列。\n",
    "                activation='relu'    # 活性化関数はReLU。\n",
    "                ))\n",
    "# 第2層の次にドロップアウトを実装\n",
    "model.add(Dropout(rate=0.25))         # ドロップアウト率を25パーセントにする。\n",
    "\n",
    "# 第3層(出力層)の作成\n",
    "model.add(Dense(num_classes,           # 第2層のニューロン数は10。\n",
    "                activation='softmax'   # 活性化関数はSoftmax。\n",
    "                ))\n",
    "\n",
    "# バックプロパゲーションを実装してコンパイル\n",
    "model.compile(\n",
    "    loss='categorical_crossentropy', # 誤差関数を交差エントロピー誤差にする。\n",
    "    optimizer=Adam(),                # 学習方法をAdamにする。\n",
    "    metrics=['accuracy'])            # 学習評価には正解率を使う。"
   ]
  },
  {
   "cell_type": "code",
   "execution_count": 3,
   "metadata": {},
   "outputs": [
    {
     "name": "stdout",
     "output_type": "stream",
     "text": [
      "Train on 60000 samples, validate on 10000 samples\n",
      "Epoch 1/10\n",
      "60000/60000 [==============================] - 17s 275us/sample - loss: 0.5189 - accuracy: 0.8102 - val_loss: 0.4119 - val_accuracy: 0.8475\n",
      "Epoch 2/10\n",
      "60000/60000 [==============================] - 16s 266us/sample - loss: 0.4043 - accuracy: 0.8514 - val_loss: 0.3773 - val_accuracy: 0.8588\n",
      "Epoch 3/10\n",
      "60000/60000 [==============================] - 16s 268us/sample - loss: 0.3727 - accuracy: 0.8628 - val_loss: 0.4196 - val_accuracy: 0.8492\n",
      "Epoch 4/10\n",
      "60000/60000 [==============================] - 16s 269us/sample - loss: 0.3571 - accuracy: 0.8681 - val_loss: 0.3575 - val_accuracy: 0.8725\n",
      "Epoch 5/10\n",
      "60000/60000 [==============================] - 16s 270us/sample - loss: 0.3414 - accuracy: 0.8744 - val_loss: 0.3606 - val_accuracy: 0.8699\n",
      "Epoch 6/10\n",
      "60000/60000 [==============================] - 16s 270us/sample - loss: 0.3302 - accuracy: 0.8782 - val_loss: 0.3409 - val_accuracy: 0.8769\n",
      "Epoch 7/10\n",
      "60000/60000 [==============================] - 17s 278us/sample - loss: 0.3172 - accuracy: 0.8814 - val_loss: 0.3489 - val_accuracy: 0.8749\n",
      "Epoch 8/10\n",
      "60000/60000 [==============================] - 16s 275us/sample - loss: 0.3081 - accuracy: 0.8861 - val_loss: 0.3456 - val_accuracy: 0.8764\n",
      "Epoch 9/10\n",
      "60000/60000 [==============================] - 16s 272us/sample - loss: 0.3041 - accuracy: 0.8867 - val_loss: 0.3478 - val_accuracy: 0.8728\n",
      "Epoch 10/10\n",
      "60000/60000 [==============================] - 16s 270us/sample - loss: 0.2981 - accuracy: 0.8888 - val_loss: 0.3330 - val_accuracy: 0.8809\n",
      "Test loss: 0.3330211207032204\n",
      "Test accuracy: 0.8809\n",
      "Time:164.014 sec\n"
     ]
    }
   ],
   "source": [
    "# ディープラーニングを実行する\n",
    "\n",
    "import time\n",
    "\n",
    "batch = 32    # ミニバッチの数。\n",
    "epochs = 10   # 学習する回数。\n",
    "\n",
    "# 開始直前の時刻を取得する。\n",
    "startTime = time.time()\n",
    "\n",
    "# 学習を実行する。\n",
    "history = model.fit(x_train,           # 訓練データ\n",
    "                    y_train,           # 正解ラベル\n",
    "                    batch_size=batch,  # ミニバッチのサイズ\n",
    "                    epochs=epochs,     # 学習する回数\n",
    "                    verbose=1,         # 学習の進捗状況を出力する\n",
    "                    validation_data=(\n",
    "                        x_test, y_test # テストデータの指定\n",
    "                        )\n",
    "                    )\n",
    "\n",
    "# テストデータで学習を評価するデータを取得\n",
    "score = model.evaluate(x_test, y_test, verbose=0)\n",
    "# テストデータの誤り率を出力\n",
    "print('Test loss:', score[0])\n",
    "# テストデータの正解率を出力\n",
    "print('Test accuracy:', score[1])\n",
    "# 処理にかかった時間を出力\n",
    "print(\"Time:{0:.3f} sec\".format(time.time() - startTime))"
   ]
  },
  {
   "cell_type": "code",
   "execution_count": 5,
   "metadata": {},
   "outputs": [
    {
     "data": {
      "image/png": "[encoded data removed]",
      "text/plain": [
       "<Figure size 432x288 with 1 Axes>"
      ]
     },
     "metadata": {
      "needs_background": "light"
     },
     "output_type": "display_data"
    },
    {
     "data": {
      "image/png": "[encoded data removed]",
      "text/plain": [
       "<Figure size 432x288 with 1 Axes>"
      ]
     },
     "metadata": {
      "needs_background": "light"
     },
     "output_type": "display_data"
    }
   ],
   "source": [
    "# 損失（誤り率）、正解率をグラフにする\n",
    "%matplotlib inline\n",
    "import numpy as np\n",
    "import matplotlib.pyplot as plt\n",
    "\n",
    "# 訓練データの損失(誤り率)をプロット\n",
    "plt.plot(history.history['loss'],\n",
    "         label='training',\n",
    "         color='black')\n",
    "# テストデータの損失(誤り率)をプロット\n",
    "plt.plot(history.history['val_loss'],\n",
    "         label='test',\n",
    "         color='red')\n",
    "plt.ylim(0, 1)       # y軸の範囲\n",
    "plt.legend()         # 凡例を表示\n",
    "plt.grid()           # グリッド表示\n",
    "plt.xlabel('epoch')  # x軸ラベル\n",
    "plt.ylabel('loss')   # y軸ラベル\n",
    "plt.show()\n",
    "\n",
    "# 訓練データの正解率をプロット\n",
    "plt.plot(history.history['accuracy'],\n",
    "         label='training',\n",
    "         color='black')\n",
    "# テストデータの正解率をプロット\n",
    "plt.plot(history.history['val_accuracy'],\n",
    "         label='test',\n",
    "         color='red')\n",
    "plt.ylim(0.5, 1)      # y軸の範囲\n",
    "plt.legend()          # 凡例を表示\n",
    "plt.grid()            # グリッド表示\n",
    "plt.xlabel('epoch')   # x軸ラベル\n",
    "plt.ylabel('accuracy')# y軸ラベル\n",
    "plt.show()"
   ]
  },
  {
   "cell_type": "code",
   "execution_count": null,
   "metadata": {},
   "outputs": [],
   "source": []
  }
 ],
 "metadata": {
  "kernelspec": {
   "display_name": "Python 3",
   "language": "python",
   "name": "python3"
  },
  "language_info": {
   "codemirror_mode": {
    "name": "ipython",
    "version": 3
   },
   "file_extension": ".py",
   "mimetype": "text/x-python",
   "name": "python",
   "nbconvert_exporter": "python",
   "pygments_lexer": "ipython3",
   "version": "3.6.12"
  }
 },
 "nbformat": 4,
 "nbformat_minor": 2
}
