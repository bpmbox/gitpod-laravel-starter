{
 "cells": [
  {
   "cell_type": "code",
   "execution_count": 1,
   "metadata": {},
   "outputs": [],
   "source": [
    "from tensorflow.keras.datasets import cifar10\n",
    "\n",
    "# CIFAR-10データを読み込む\n",
    "(X_train, y_train), (X_test, y_test) = cifar10.load_data()"
   ]
  },
  {
   "cell_type": "code",
   "execution_count": 2,
   "metadata": {},
   "outputs": [],
   "source": [
    "# 前処理を行う。\n",
    "from tensorflow.keras import utils\n",
    "\n",
    "# 訓練データのピクセル値を0～1の範囲に変換。\n",
    "X_train = X_train.astype('float32')\n",
    "X_train /= 255.0\n",
    "# テストデータのピクセル値を0～1の範囲に変換。\n",
    "X_test = X_test.astype('float32')\n",
    "X_test /= 255.0\n",
    "\n",
    "# 正解ラベルを10クラスのワンホット表現に変換。\n",
    "classes = 10\n",
    "Y_train = utils.to_categorical(y_train, classes)\n",
    "Y_test = utils.to_categorical(y_test, classes)"
   ]
  },
  {
   "cell_type": "code",
   "execution_count": 3,
   "metadata": {},
   "outputs": [],
   "source": [
    "# 第1層：畳み込み層1\n",
    "from tensorflow.keras.models import Sequential\n",
    "from tensorflow.keras.layers import Conv2D\n",
    "\n",
    "# CNNを構築\n",
    "model = Sequential()\n",
    "\n",
    "# （第1層）畳み込み層1\n",
    "model.add(\n",
    "    Conv2D(\n",
    "        filters=32,                # フィルターの数は32\n",
    "        kernel_size=(3, 3),        # 3×3のフィルターを使用\n",
    "        input_shape=(32, 32, 3),   # 入力データの形状\n",
    "        padding='same',            # ゼロパディングを行う\n",
    "        activation='relu'          # 活性化関数はReLU\n",
    "        ))"
   ]
  },
  {
   "cell_type": "code",
   "execution_count": 4,
   "metadata": {},
   "outputs": [],
   "source": [
    "# （第2層）畳み込み層2\n",
    "model.add(\n",
    "    Conv2D(\n",
    "        filters=32,                # フィルターの数は32\n",
    "        kernel_size=(3, 3),        # 3×3のフィルターを使用\n",
    "        padding='same',            # ゼロパディングを行う\n",
    "        activation='relu'          # 活性化関数はReLU\n",
    "        ))"
   ]
  },
  {
   "cell_type": "code",
   "execution_count": 5,
   "metadata": {},
   "outputs": [],
   "source": [
    "# （第3層）プーリング層1：ウィンドウサイズは2×2\n",
    "from tensorflow.keras.layers import MaxPooling2D, Dropout\n",
    "\n",
    "model.add(\n",
    "    MaxPooling2D(pool_size=(2, 2))\n",
    ")\n",
    "\n",
    "# ドロップアウトは25％\n",
    "model.add(Dropout(0.5))"
   ]
  },
  {
   "cell_type": "code",
   "execution_count": 6,
   "metadata": {},
   "outputs": [],
   "source": [
    "# （第4層）畳み込み層3\n",
    "model.add(\n",
    "    Conv2D(filters=64,             # フィルターの数は64\n",
    "           kernel_size=(3, 3),     # 3×3のフィルターを使用\n",
    "           padding='same',\n",
    "           activation='relu'       # 活性化関数はReLU\n",
    "           ))"
   ]
  },
  {
   "cell_type": "code",
   "execution_count": 7,
   "metadata": {},
   "outputs": [],
   "source": [
    "# （第5層）畳み込み層4\n",
    "model.add(\n",
    "    Conv2D(filters=64,             # フィルターの数は64\n",
    "           kernel_size=(3, 3),     # 3×3のフィルターを使用\n",
    "           padding='same',         # ゼロパディングを行う\n",
    "           activation='relu'       # 活性化関数はReLU\n",
    "           ))"
   ]
  },
  {
   "cell_type": "code",
   "execution_count": 8,
   "metadata": {},
   "outputs": [],
   "source": [
    "# （第6層）プーリング層2：ウィンドウサイズは2×2\n",
    "model.add(\n",
    "    MaxPooling2D(\n",
    "        pool_size=(2, 2)\n",
    "    ))\n",
    "\n",
    "# ドロップアウトは25％\n",
    "model.add(Dropout(0.5))"
   ]
  },
  {
   "cell_type": "code",
   "execution_count": 9,
   "metadata": {},
   "outputs": [],
   "source": [
    "# Flatten層　4階テンソルから2階テンソルに変換\n",
    "from tensorflow.keras.layers import Flatten\n",
    "\n",
    "model.add(Flatten())"
   ]
  },
  {
   "cell_type": "code",
   "execution_count": 10,
   "metadata": {},
   "outputs": [],
   "source": [
    "# （第7層）全結合層\n",
    "from tensorflow.keras.layers import Dense\n",
    "\n",
    "model.add(\n",
    "    Dense(512,                     # ニューロン数は512\n",
    "          activation='relu'))      # 活性化関数はReLU\n",
    "          \n",
    "\n",
    "# ドロップアウトは50％\n",
    "model.add(Dropout(0.5))"
   ]
  },
  {
   "cell_type": "code",
   "execution_count": 11,
   "metadata": {},
   "outputs": [],
   "source": [
    "# （第8層）出力層\n",
    "model.add(\n",
    "    Dense(classes,                 # 出力層のニューロン数はclasses\n",
    "          activation='softmax'))   # 活性化関数はソフトマックス"
   ]
  },
  {
   "cell_type": "code",
   "execution_count": 12,
   "metadata": {},
   "outputs": [],
   "source": [
    "# Sequentialオブジェクトのコンパイル\n",
    "from tensorflow.keras.optimizers import Adam\n",
    "\n",
    "model.compile(\n",
    "    loss='categorical_crossentropy', # 損失関数は交差エントロピー誤差\n",
    "    optimizer=Adam(),                # 最適化をAdamアルゴリズムで行う\n",
    "    metrics=['accuracy']             # 学習評価として正解率を指定\n",
    "    )"
   ]
  },
  {
   "cell_type": "code",
   "execution_count": 13,
   "metadata": {},
   "outputs": [
    {
     "name": "stdout",
     "output_type": "stream",
     "text": [
      "Model: \"sequential\"\n",
      "_________________________________________________________________\n",
      "Layer (type)                 Output Shape              Param #   \n",
      "=================================================================\n",
      "conv2d (Conv2D)              (None, 32, 32, 32)        896       \n",
      "_________________________________________________________________\n",
      "conv2d_1 (Conv2D)            (None, 32, 32, 32)        9248      \n",
      "_________________________________________________________________\n",
      "max_pooling2d (MaxPooling2D) (None, 16, 16, 32)        0         \n",
      "_________________________________________________________________\n",
      "dropout (Dropout)            (None, 16, 16, 32)        0         \n",
      "_________________________________________________________________\n",
      "conv2d_2 (Conv2D)            (None, 16, 16, 64)        18496     \n",
      "_________________________________________________________________\n",
      "conv2d_3 (Conv2D)            (None, 16, 16, 64)        36928     \n",
      "_________________________________________________________________\n",
      "max_pooling2d_1 (MaxPooling2 (None, 8, 8, 64)          0         \n",
      "_________________________________________________________________\n",
      "dropout_1 (Dropout)          (None, 8, 8, 64)          0         \n",
      "_________________________________________________________________\n",
      "flatten (Flatten)            (None, 4096)              0         \n",
      "_________________________________________________________________\n",
      "dense (Dense)                (None, 512)               2097664   \n",
      "_________________________________________________________________\n",
      "dropout_2 (Dropout)          (None, 512)               0         \n",
      "_________________________________________________________________\n",
      "dense_1 (Dense)              (None, 10)                5130      \n",
      "=================================================================\n",
      "Total params: 2,168,362\n",
      "Trainable params: 2,168,362\n",
      "Non-trainable params: 0\n",
      "_________________________________________________________________\n"
     ]
    }
   ],
   "source": [
    "# モデルのサマリを表示\n",
    "model.summary()"
   ]
  },
  {
   "cell_type": "code",
   "execution_count": 14,
   "metadata": {},
   "outputs": [
    {
     "name": "stdout",
     "output_type": "stream",
     "text": [
      "Train on 50000 samples, validate on 10000 samples\n",
      "Epoch 1/30\n",
      "50000/50000 [==============================] - 180s 4ms/sample - loss: 1.5947 - accuracy: 0.4119 - val_loss: 1.2328 - val_accuracy: 0.5599\n",
      "Epoch 2/30\n",
      "50000/50000 [==============================] - 180s 4ms/sample - loss: 1.2307 - accuracy: 0.5597 - val_loss: 1.0809 - val_accuracy: 0.6157\n",
      "Epoch 3/30\n",
      "50000/50000 [==============================] - 179s 4ms/sample - loss: 1.0651 - accuracy: 0.6215 - val_loss: 0.8863 - val_accuracy: 0.6906\n",
      "Epoch 4/30\n",
      "50000/50000 [==============================] - 179s 4ms/sample - loss: 0.9655 - accuracy: 0.6603 - val_loss: 0.8700 - val_accuracy: 0.6987\n",
      "Epoch 5/30\n",
      "50000/50000 [==============================] - 179s 4ms/sample - loss: 0.9034 - accuracy: 0.6816 - val_loss: 0.8087 - val_accuracy: 0.7153\n",
      "Epoch 6/30\n",
      "50000/50000 [==============================] - 180s 4ms/sample - loss: 0.8608 - accuracy: 0.6975 - val_loss: 0.7386 - val_accuracy: 0.7443\n",
      "Epoch 7/30\n",
      "50000/50000 [==============================] - 178s 4ms/sample - loss: 0.8187 - accuracy: 0.7126 - val_loss: 0.7270 - val_accuracy: 0.7485\n",
      "Epoch 8/30\n",
      "50000/50000 [==============================] - 178s 4ms/sample - loss: 0.7851 - accuracy: 0.7226 - val_loss: 0.7065 - val_accuracy: 0.7546\n",
      "Epoch 9/30\n",
      "50000/50000 [==============================] - 178s 4ms/sample - loss: 0.7730 - accuracy: 0.7283 - val_loss: 0.7473 - val_accuracy: 0.7449\n",
      "Epoch 10/30\n",
      "50000/50000 [==============================] - 179s 4ms/sample - loss: 0.7387 - accuracy: 0.7395 - val_loss: 0.6836 - val_accuracy: 0.7668\n",
      "Epoch 11/30\n",
      "50000/50000 [==============================] - 178s 4ms/sample - loss: 0.7179 - accuracy: 0.7465 - val_loss: 0.6718 - val_accuracy: 0.7642\n",
      "Epoch 12/30\n",
      "50000/50000 [==============================] - 176s 4ms/sample - loss: 0.7102 - accuracy: 0.7474 - val_loss: 0.6527 - val_accuracy: 0.7740\n",
      "Epoch 13/30\n",
      "50000/50000 [==============================] - 176s 4ms/sample - loss: 0.6877 - accuracy: 0.7564 - val_loss: 0.6309 - val_accuracy: 0.7825\n",
      "Epoch 14/30\n",
      "50000/50000 [==============================] - 176s 4ms/sample - loss: 0.6736 - accuracy: 0.7633 - val_loss: 0.6359 - val_accuracy: 0.7800\n",
      "Epoch 15/30\n",
      "50000/50000 [==============================] - 178s 4ms/sample - loss: 0.6650 - accuracy: 0.7675 - val_loss: 0.6520 - val_accuracy: 0.7777\n",
      "Epoch 16/30\n",
      "50000/50000 [==============================] - 177s 4ms/sample - loss: 0.6544 - accuracy: 0.7701 - val_loss: 0.6052 - val_accuracy: 0.7903\n",
      "Epoch 17/30\n",
      "50000/50000 [==============================] - 176s 4ms/sample - loss: 0.6374 - accuracy: 0.7724 - val_loss: 0.6474 - val_accuracy: 0.7768\n",
      "Epoch 18/30\n",
      "50000/50000 [==============================] - 176s 4ms/sample - loss: 0.6265 - accuracy: 0.7793 - val_loss: 0.6303 - val_accuracy: 0.7835\n",
      "Epoch 19/30\n",
      "50000/50000 [==============================] - 177s 4ms/sample - loss: 0.6193 - accuracy: 0.7796 - val_loss: 0.6269 - val_accuracy: 0.7814\n",
      "Epoch 20/30\n",
      "50000/50000 [==============================] - 178s 4ms/sample - loss: 0.6099 - accuracy: 0.7842 - val_loss: 0.6216 - val_accuracy: 0.7866\n",
      "Epoch 21/30\n",
      "50000/50000 [==============================] - 177s 4ms/sample - loss: 0.5927 - accuracy: 0.7907 - val_loss: 0.6072 - val_accuracy: 0.7891\n",
      "Epoch 22/30\n",
      "50000/50000 [==============================] - 176s 4ms/sample - loss: 0.5896 - accuracy: 0.7907 - val_loss: 0.6126 - val_accuracy: 0.7907\n",
      "Epoch 23/30\n",
      "50000/50000 [==============================] - 176s 4ms/sample - loss: 0.5834 - accuracy: 0.7952 - val_loss: 0.6141 - val_accuracy: 0.7864\n",
      "Epoch 24/30\n",
      "50000/50000 [==============================] - 176s 4ms/sample - loss: 0.5779 - accuracy: 0.7957 - val_loss: 0.5856 - val_accuracy: 0.7980\n",
      "Epoch 25/30\n",
      "50000/50000 [==============================] - 177s 4ms/sample - loss: 0.5777 - accuracy: 0.7960 - val_loss: 0.6099 - val_accuracy: 0.7922\n",
      "Epoch 26/30\n",
      "50000/50000 [==============================] - 176s 4ms/sample - loss: 0.5680 - accuracy: 0.7996 - val_loss: 0.5871 - val_accuracy: 0.8003\n",
      "Epoch 27/30\n",
      "50000/50000 [==============================] - 177s 4ms/sample - loss: 0.5578 - accuracy: 0.8025 - val_loss: 0.5981 - val_accuracy: 0.7965\n",
      "Epoch 28/30\n",
      "50000/50000 [==============================] - 176s 4ms/sample - loss: 0.5522 - accuracy: 0.8049 - val_loss: 0.6108 - val_accuracy: 0.7921\n",
      "Epoch 29/30\n",
      "50000/50000 [==============================] - 176s 4ms/sample - loss: 0.5409 - accuracy: 0.8082 - val_loss: 0.5828 - val_accuracy: 0.8011\n",
      "Epoch 30/30\n",
      "50000/50000 [==============================] - 176s 4ms/sample - loss: 0.5403 - accuracy: 0.8089 - val_loss: 0.5856 - val_accuracy: 0.7991\n"
     ]
    }
   ],
   "source": [
    "# 学習を行う\n",
    "\n",
    "batch_size = 64 # ミニバッチのサイズ\n",
    "epochs = 30    # 学習回数\n",
    "\n",
    "history = model.fit(X_train,               # 訓練データ\n",
    "                    Y_train,               # 正解ラベル \n",
    "                    batch_size=batch_size, # 勾配計算に用いるミニバッチの数 \n",
    "                    epochs=epochs,         # 学習を繰り返す回数\n",
    "                    verbose=1,             # 学習の進捗状況を出力する\n",
    "                    validation_data=(\n",
    "                        X_test, Y_test     # テストデータの指定\n",
    "                    ))"
   ]
  },
  {
   "cell_type": "code",
   "execution_count": 15,
   "metadata": {},
   "outputs": [
    {
     "data": {
      "image/png": "[encoded data removed]",
      "text/plain": [
       "<Figure size 576x720 with 2 Axes>"
      ]
     },
     "metadata": {
      "needs_background": "light"
     },
     "output_type": "display_data"
    }
   ],
   "source": [
    "# 学習過程をグラフにする\n",
    "\n",
    "import matplotlib.pyplot as plt\n",
    "%matplotlib inline\n",
    "\n",
    "def plot_history(history):\n",
    "    plt.ﬁgure(ﬁgsize=(8, 10))\n",
    "    plt.subplots_adjust(hspace=0.3)\n",
    "    # 精度の履歴をプロット\n",
    "    plt.subplot(2, 1, 1)\n",
    "    plt.plot(history.history['accuracy'],\"-\",label=\"accuracy\")\n",
    "    plt.plot(history.history['val_accuracy'],\"-\",label=\"val_accuracy\")\n",
    "    plt.title('model accuracy')\n",
    "    plt.xlabel('epoch')\n",
    "    plt.ylabel('accuracy')\n",
    "    plt.legend(loc=\"lower right\")\n",
    "\n",
    "    # 損失の履歴をプロット\n",
    "    plt.subplot(2, 1, 2)\n",
    "    plt.plot(history.history['loss'],\"-\",label=\"loss\",)\n",
    "    plt.plot(history.history['val_loss'],\"-\",label=\"val_loss\")\n",
    "    plt.title('model loss')\n",
    "    plt.xlabel('epoch')\n",
    "    plt.ylabel('loss')\n",
    "    plt.legend(loc='upper right')\n",
    "    plt.show()\n",
    "    \n",
    "# 学習の過程をグラフにする\n",
    "plot_history(history)"
   ]
  },
  {
   "cell_type": "code",
   "execution_count": null,
   "metadata": {},
   "outputs": [],
   "source": []
  }
 ],
 "metadata": {
  "kernelspec": {
   "display_name": "Python 3",
   "language": "python",
   "name": "python3"
  },
  "language_info": {
   "codemirror_mode": {
    "name": "ipython",
    "version": 3
   },
   "file_extension": ".py",
   "mimetype": "text/x-python",
   "name": "python",
   "nbconvert_exporter": "python",
   "pygments_lexer": "ipython3",
   "version": "3.6.12"
  }
 },
 "nbformat": 4,
 "nbformat_minor": 2
}
