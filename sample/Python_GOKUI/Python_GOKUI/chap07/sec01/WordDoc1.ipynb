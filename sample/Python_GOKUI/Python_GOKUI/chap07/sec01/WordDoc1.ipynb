{
 "cells": [
  {
   "cell_type": "code",
   "execution_count": 1,
   "metadata": {},
   "outputs": [
    {
     "ename": "ModuleNotFoundError",
     "evalue": "No module named 'docx'",
     "output_type": "error",
     "traceback": [
      "\u001b[0;31m---------------------------------------------------------------------------\u001b[0m",
      "\u001b[0;31mModuleNotFoundError\u001b[0m                       Traceback (most recent call last)",
      "\u001b[1;32m/workspace/gitpod-laravel-starter/sample/Python_GOKUI/Python_GOKUI/chap07/sec01/WordDoc1.ipynb Cell 1'\u001b[0m in \u001b[0;36m<module>\u001b[0;34m\u001b[0m\n\u001b[1;32m      <a href='vscode-notebook-cell://bpmbox-dreamo-mc55rvdw0tm.ws-us34xl.gitpod.io/workspace/gitpod-laravel-starter/sample/Python_GOKUI/Python_GOKUI/chap07/sec01/WordDoc1.ipynb#ch0000000vscode-remote?line=0'>1</a>\u001b[0m \u001b[39m# Wordドキュメントから段落を取り出す\u001b[39;00m\n\u001b[0;32m----> <a href='vscode-notebook-cell://bpmbox-dreamo-mc55rvdw0tm.ws-us34xl.gitpod.io/workspace/gitpod-laravel-starter/sample/Python_GOKUI/Python_GOKUI/chap07/sec01/WordDoc1.ipynb#ch0000000vscode-remote?line=2'>3</a>\u001b[0m \u001b[39mimport\u001b[39;00m \u001b[39mdocx\u001b[39;00m               \u001b[39m# python-docxをインポート\u001b[39;00m\n\u001b[1;32m      <a href='vscode-notebook-cell://bpmbox-dreamo-mc55rvdw0tm.ws-us34xl.gitpod.io/workspace/gitpod-laravel-starter/sample/Python_GOKUI/Python_GOKUI/chap07/sec01/WordDoc1.ipynb#ch0000000vscode-remote?line=3'>4</a>\u001b[0m doc \u001b[39m=\u001b[39m docx\u001b[39m.\u001b[39mDocument(\u001b[39m'\u001b[39m\u001b[39mサンプル文書.docx\u001b[39m\u001b[39m'\u001b[39m)\n\u001b[1;32m      <a href='vscode-notebook-cell://bpmbox-dreamo-mc55rvdw0tm.ws-us34xl.gitpod.io/workspace/gitpod-laravel-starter/sample/Python_GOKUI/Python_GOKUI/chap07/sec01/WordDoc1.ipynb#ch0000000vscode-remote?line=4'>5</a>\u001b[0m \u001b[39mlen\u001b[39m(doc\u001b[39m.\u001b[39mparagraphs)\n",
      "\u001b[0;31mModuleNotFoundError\u001b[0m: No module named 'docx'"
     ]
    }
   ],
   "source": [
    "# Wordドキュメントから段落を取り出す\n",
    "\n",
    "import docx               # python-docxをインポート\n",
    "doc = docx.Document('サンプル文書.docx')\n",
    "len(doc.paragraphs)       # paragraphsの要素数を調べる"
   ]
  },
  {
   "cell_type": "code",
   "execution_count": 2,
   "metadata": {},
   "outputs": [
    {
     "data": {
      "text/plain": [
       "'Pythonの特徴'"
      ]
     },
     "execution_count": 2,
     "metadata": {},
     "output_type": "execute_result"
    }
   ],
   "source": [
    "doc.paragraphs[0].text    # 1番目の段落のテキストを取り出す"
   ]
  },
  {
   "cell_type": "code",
   "execution_count": 3,
   "metadata": {},
   "outputs": [
    {
     "data": {
      "text/plain": [
       "'Pythonのソースコードの書き方は、オブジェクト指向、命令型、手続き型、関数型などの形式に対応していますので、状況に応じて使い分けることができます。'"
      ]
     },
     "execution_count": 3,
     "metadata": {},
     "output_type": "execute_result"
    }
   ],
   "source": [
    "doc.paragraphs[1].text    # 2番目の段落のテキストを取り出す"
   ]
  },
  {
   "cell_type": "code",
   "execution_count": 4,
   "metadata": {},
   "outputs": [
    {
     "data": {
      "text/plain": [
       "'オブジェクト指向を使えばより高度なプログラミングを行えますが、命令型、手続き型、関数型は名前こそ異なりますが、プログラムを書くための基本なので、まずはこれらの書き方を学んでからオブジェクト指向に進むのが一般的です。'"
      ]
     },
     "execution_count": 4,
     "metadata": {},
     "output_type": "execute_result"
    }
   ],
   "source": [
    "doc.paragraphs[2].text    # 3番目の段落のテキストを取り出す"
   ]
  },
  {
   "cell_type": "code",
   "execution_count": 5,
   "metadata": {},
   "outputs": [
    {
     "data": {
      "text/plain": [
       "'Pythonの用途は広く、PC上で動作する一般的なアプリケーションの開発から、Webアプリ、ゲーム、画像処理をはじめとする各種自動処理に使われる一方、統計分析、AI（人工知能）開発のためのディープラーニング（深層学習）の分野で多く利用されています。'"
      ]
     },
     "execution_count": 5,
     "metadata": {},
     "output_type": "execute_result"
    }
   ],
   "source": [
    "doc.paragraphs[3].text    # 4番目の段落のテキストを取り出す"
   ]
  },
  {
   "cell_type": "code",
   "execution_count": 6,
   "metadata": {},
   "outputs": [
    {
     "data": {
      "text/plain": [
       "6"
      ]
     },
     "execution_count": 6,
     "metadata": {},
     "output_type": "execute_result"
    }
   ],
   "source": [
    "# Wordドキュメントの2つ目の段落からRunオブジェクトを取り出す\n",
    "\n",
    "import docx\n",
    "doc = docx.Document('サンプル文書.docx')\n",
    "len(doc.paragraphs[1].runs)       # 第2段落のRunオブジェクトの数を取得"
   ]
  },
  {
   "cell_type": "code",
   "execution_count": 7,
   "metadata": {},
   "outputs": [
    {
     "data": {
      "text/plain": [
       "'Python'"
      ]
     },
     "execution_count": 7,
     "metadata": {},
     "output_type": "execute_result"
    }
   ],
   "source": [
    "doc.paragraphs[1].runs[0].text    # 第2段落の1つ目のRunオブジェクト"
   ]
  },
  {
   "cell_type": "code",
   "execution_count": 8,
   "metadata": {},
   "outputs": [
    {
     "data": {
      "text/plain": [
       "'のソースコードの書き方は、'"
      ]
     },
     "execution_count": 8,
     "metadata": {},
     "output_type": "execute_result"
    }
   ],
   "source": [
    "doc.paragraphs[1].runs[1].text    # 第2段落の2つ目のRunオブジェクト"
   ]
  },
  {
   "cell_type": "code",
   "execution_count": 9,
   "metadata": {},
   "outputs": [
    {
     "data": {
      "text/plain": [
       "'オブジェクト指向、命令型、手続き型、関数型'"
      ]
     },
     "execution_count": 9,
     "metadata": {},
     "output_type": "execute_result"
    }
   ],
   "source": [
    "doc.paragraphs[1].runs[2].text    # 第2段落の3つ目のRunオブジェクト"
   ]
  },
  {
   "cell_type": "code",
   "execution_count": 10,
   "metadata": {},
   "outputs": [
    {
     "data": {
      "text/plain": [
       "'などの形式に対応していますので、'"
      ]
     },
     "execution_count": 10,
     "metadata": {},
     "output_type": "execute_result"
    }
   ],
   "source": [
    "doc.paragraphs[1].runs[3].text    # 第2段落の4つ目のRunオブジェクト"
   ]
  },
  {
   "cell_type": "code",
   "execution_count": 11,
   "metadata": {},
   "outputs": [
    {
     "data": {
      "text/plain": [
       "'状況に応じて使い分ける'"
      ]
     },
     "execution_count": 11,
     "metadata": {},
     "output_type": "execute_result"
    }
   ],
   "source": [
    "doc.paragraphs[1].runs[4].text    # 第2段落の5つ目のRunオブジェクト"
   ]
  },
  {
   "cell_type": "code",
   "execution_count": 12,
   "metadata": {},
   "outputs": [
    {
     "data": {
      "text/plain": [
       "'ことができます。'"
      ]
     },
     "execution_count": 12,
     "metadata": {},
     "output_type": "execute_result"
    }
   ],
   "source": [
    "doc.paragraphs[1].runs[5].text    # 第2段落の6つ目のRunオブジェクト"
   ]
  },
  {
   "cell_type": "code",
   "execution_count": null,
   "metadata": {},
   "outputs": [],
   "source": []
  }
 ],
 "metadata": {
  "kernelspec": {
   "display_name": "Python 3",
   "language": "python",
   "name": "python3"
  },
  "language_info": {
   "codemirror_mode": {
    "name": "ipython",
    "version": 3
   },
   "file_extension": ".py",
   "mimetype": "text/x-python",
   "name": "python",
   "nbconvert_exporter": "python",
   "pygments_lexer": "ipython3",
   "version": "3.8.12"
  }
 },
 "nbformat": 4,
 "nbformat_minor": 2
}
