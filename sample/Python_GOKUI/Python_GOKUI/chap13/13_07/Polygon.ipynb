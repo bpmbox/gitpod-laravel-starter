{
 "cells": [
  {
   "cell_type": "code",
   "execution_count": 1,
   "metadata": {},
   "outputs": [
    {
     "data": {
      "image/png": "[encoded data removed]",
      "text/plain": [
       "<Figure size 432x288 with 1 Axes>"
      ]
     },
     "metadata": {
      "needs_background": "light"
     },
     "output_type": "display_data"
    }
   ],
   "source": [
    "# ポリゴンを使って曲線下の面積を表示する\n",
    "%matplotlib inline\n",
    "import numpy as np\n",
    "import matplotlib.pyplot as plt\n",
    "from matplotlib.patches import Polygon\n",
    "\n",
    "# 多項式による曲線を返す関数\n",
    "def func(x):\n",
    "    return (x - 3) * (x - 5) * (x - 7) + 100\n",
    "\n",
    "x = np.linspace(0, 10)            # 0～10で50個の等差数列を生成\n",
    "y = func(x)                       # 多項式の関数を適用\n",
    "\n",
    "# FigureとAxesの生成\n",
    "fig, ax = plt.subplots()          # Figure上にAxesを配置\n",
    "ax.plot(x, y, 'red', linewidth=2) # 線幅2pt、赤のラインをプロット\n",
    "ax.set_ylim(ymin=0)               # y軸の下限を0に設定\n",
    "\n",
    "# 面積を表す領域を生成\n",
    "a, b = 3, 8                       # 面積を表す範囲\n",
    "x_area = np.linspace(a, b)        # a～bで50個の等差数列を生成\n",
    "y_area = func(x_area)             # 多項式の関数を適用\n",
    "# (a,0)→(x_area, y_area)→(b, 0)タプルのリスト\n",
    "param= [(a, 0)] + list(zip(x_area, y_area)) + [(b, 0)]\n",
    "# Polygonオブジェクトを生成\n",
    "poly = Polygon(param,\n",
    "               facecolor='pink',  # ピンクで塗りつぶす\n",
    "               edgecolor='black'  # エッジラインは黒\n",
    "              )\n",
    "# PolygonオブジェクトをAxesに配置する\n",
    "ax.add_patch(poly)\n",
    "\n",
    "# 数式、軸ラベル、目盛ラベルの表示\n",
    "plt.text(0.5 * (a + b), 30,               # 配置するx、yの位置\n",
    "         r\"$S=\\int_a^b f(x)\\mathrm{d}x$\", # 面積Sを求める定積分の式を描画\n",
    "         horizontalalignment='center',    # テキスト全体の左右中央を基準にする\n",
    "         fontsize=15                      # 文字サイズは15pt\n",
    "        )\n",
    "\n",
    "fig.text(0.9, 0.05, r'$x$')               # y軸の先端にラベルを表示\n",
    "fig.text(0.1, 0.9, r'$y$')                # x軸の先端にラベルを表示\n",
    "\n",
    "ax.xaxis.set_ticks_position('bottom')     # x軸の目盛ラベルを軸の下側にセット\n",
    "ax.set_xticks((a, b))                     # 目盛ラベルの表示位置\n",
    "ax.set_xticklabels((r'$a$', r'$b$'))      # 目盛ラベルを数式で表示\n",
    "\n",
    "# Axesの境界線の設定\n",
    "ax.spines['right'].set_visible(False)     # Axesの右側の境界線を非表示にする\n",
    "ax.spines['top'].set_visible(False)       # Axesの上側の境界線を非表示にする\n",
    "\n",
    "plt.show()"
   ]
  },
  {
   "cell_type": "code",
   "execution_count": 2,
   "metadata": {},
   "outputs": [
    {
     "data": {
      "text/plain": [
       "array([3.        , 3.10204082, 3.20408163, 3.30612245, 3.40816327,\n",
       "       3.51020408, 3.6122449 , 3.71428571, 3.81632653, 3.91836735,\n",
       "       4.02040816, 4.12244898, 4.2244898 , 4.32653061, 4.42857143,\n",
       "       4.53061224, 4.63265306, 4.73469388, 4.83673469, 4.93877551,\n",
       "       5.04081633, 5.14285714, 5.24489796, 5.34693878, 5.44897959,\n",
       "       5.55102041, 5.65306122, 5.75510204, 5.85714286, 5.95918367,\n",
       "       6.06122449, 6.16326531, 6.26530612, 6.36734694, 6.46938776,\n",
       "       6.57142857, 6.67346939, 6.7755102 , 6.87755102, 6.97959184,\n",
       "       7.08163265, 7.18367347, 7.28571429, 7.3877551 , 7.48979592,\n",
       "       7.59183673, 7.69387755, 7.79591837, 7.89795918, 8.        ])"
      ]
     },
     "execution_count": 2,
     "metadata": {},
     "output_type": "execute_result"
    }
   ],
   "source": [
    "x_area"
   ]
  },
  {
   "cell_type": "code",
   "execution_count": 3,
   "metadata": {},
   "outputs": [
    {
     "data": {
      "text/plain": [
       "array([100.        , 100.75491504, 101.39125704, 101.9154009 ,\n",
       "       102.33372149, 102.65259373, 102.87839251, 103.01749271,\n",
       "       103.07626924, 103.06109699, 102.97835086, 102.83440573,\n",
       "       102.63563651, 102.38841809, 102.09912536, 101.77413323,\n",
       "       101.41981657, 101.0425503 , 100.6487093 , 100.24466846,\n",
       "        99.83680269,  99.43148688,  99.03509592,  98.65400471,\n",
       "        98.29458814,  97.96322111,  97.66627851,  97.41013523,\n",
       "        97.20116618,  97.04574625,  96.95025032,  96.9210533 ,\n",
       "        96.96453009,  97.08705556,  97.29500463,  97.59475219,\n",
       "        97.99267312,  98.49514233,  99.10853471,  99.83922515,\n",
       "       100.69358856, 101.67799981, 102.79883382, 104.06246547,\n",
       "       105.47526966, 107.04362128, 108.77389523, 110.6724664 ,\n",
       "       112.7457097 , 115.        ])"
      ]
     },
     "execution_count": 3,
     "metadata": {},
     "output_type": "execute_result"
    }
   ],
   "source": [
    "y_area"
   ]
  },
  {
   "cell_type": "code",
   "execution_count": null,
   "metadata": {},
   "outputs": [],
   "source": []
  }
 ],
 "metadata": {
  "kernelspec": {
   "display_name": "Python 3",
   "language": "python",
   "name": "python3"
  },
  "language_info": {
   "codemirror_mode": {
    "name": "ipython",
    "version": 3
   },
   "file_extension": ".py",
   "mimetype": "text/x-python",
   "name": "python",
   "nbconvert_exporter": "python",
   "pygments_lexer": "ipython3",
   "version": "3.6.12"
  }
 },
 "nbformat": 4,
 "nbformat_minor": 4
}
