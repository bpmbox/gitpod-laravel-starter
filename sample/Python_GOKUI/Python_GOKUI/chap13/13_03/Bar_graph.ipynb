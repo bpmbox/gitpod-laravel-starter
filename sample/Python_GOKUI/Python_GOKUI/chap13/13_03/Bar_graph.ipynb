{
 "cells": [
  {
   "cell_type": "code",
   "execution_count": 1,
   "metadata": {},
   "outputs": [
    {
     "data": {
      "image/png": "[encoded data removed]",
      "text/plain": [
       "<Figure size 432x288 with 1 Axes>"
      ]
     },
     "metadata": {
      "needs_background": "light"
     },
     "output_type": "display_data"
    }
   ],
   "source": [
    "# 棒グラフの描画\n",
    "%matplotlib inline\n",
    "import matplotlib.pyplot as plt\n",
    "\n",
    "y = [15, 30, 45, 10, 5]   # y値（バーの高さ）\n",
    "x = [1, 2, 3, 4, 5]       # x軸上の並び順\n",
    "label = [                 # 各バーのx軸上のラベル\n",
    "    'Apple', 'Banana', 'Orange', 'Grape', 'Strawberry'\n",
    "    ]\n",
    "plt.bar(x=x,              # x値を設定\n",
    "        height=y,         # バーの高さを設定\n",
    "        tick_label=label) # 各バーのx軸上のラベルを設定\n",
    "plt.title('Sales')        # タイトルをプロット\n",
    "plt.xlabel('Fruit')       # x軸、y軸のラベルをプロット\n",
    "plt.ylabel('amount of sales')\n",
    "\n",
    "plt.show()"
   ]
  },
  {
   "cell_type": "code",
   "execution_count": 3,
   "metadata": {},
   "outputs": [
    {
     "data": {
      "image/png": "[encoded data removed]",
      "text/plain": [
       "<Figure size 432x288 with 1 Axes>"
      ]
     },
     "metadata": {
      "needs_background": "light"
     },
     "output_type": "display_data"
    }
   ],
   "source": [
    "# バー間の隙間をなくす\n",
    "%matplotlib inline\n",
    "import matplotlib.pyplot as plt\n",
    "\n",
    "y = [15, 30, 45, 10, 5]   # y値（バーの高さ）\n",
    "x = [1, 2, 3, 4, 5]       # x軸上の並び順\n",
    "label = [                 # 各バーのx軸上のラベル\n",
    "    'Apple', 'Banana', 'Orange', 'Grape', 'Strawberry'\n",
    "    ]\n",
    "\n",
    "plt.bar(x=x,              # x値を設定\n",
    "        height=y,         # バーの高さを設定\n",
    "        tick_label=label, # 各バーのx軸上のラベルを設定\n",
    "        width=1.0)        # バーの幅を1.0にして隙間をなくす\n",
    "plt.show()\n"
   ]
  },
  {
   "cell_type": "code",
   "execution_count": 4,
   "metadata": {},
   "outputs": [
    {
     "data": {
      "image/png": "[encoded data removed]",
      "text/plain": [
       "<Figure size 432x288 with 1 Axes>"
      ]
     },
     "metadata": {
      "needs_background": "light"
     },
     "output_type": "display_data"
    }
   ],
   "source": [
    "# バーのカラー、エッジラインの幅とカラーを個別に設定する\n",
    "plt.bar(x=x,              # x値を設定\n",
    "        height=y,         # バーの高さを設定\n",
    "        tick_label=label, # 各バーのx軸上のラベルを設定\n",
    "        color=\"pink\",     # バーの色はピンク\n",
    "        edgecolor='red',  # エッジラインの色はレッド\n",
    "        linewidth=5)      # エッジラインの幅は5\n",
    "plt.show()"
   ]
  },
  {
   "cell_type": "code",
   "execution_count": 5,
   "metadata": {},
   "outputs": [
    {
     "data": {
      "image/png": "[encoded data removed]",
      "text/plain": [
       "<Figure size 432x288 with 1 Axes>"
      ]
     },
     "metadata": {
      "needs_background": "light"
     },
     "output_type": "display_data"
    }
   ],
   "source": [
    "# エラーバーを表示する\n",
    "err = [i * 0.08 for i in y] # エラー値\n",
    "plt.bar(x=x,                # x軸\n",
    "        height=y,           # バーの高さ\n",
    "        tick_label=label,   # 各バーのx軸上のラベルを設定\n",
    "        yerr=err,           # エラーバーを表示\n",
    "        ecolor='black',     # エラーバーの色は黒\n",
    "        capsize=5)          # キャップサイズは5\n",
    "\n",
    "plt.show()"
   ]
  },
  {
   "cell_type": "code",
   "execution_count": null,
   "metadata": {},
   "outputs": [],
   "source": []
  }
 ],
 "metadata": {
  "kernelspec": {
   "display_name": "Python 3",
   "language": "python",
   "name": "python3"
  },
  "language_info": {
   "codemirror_mode": {
    "name": "ipython",
    "version": 3
   },
   "file_extension": ".py",
   "mimetype": "text/x-python",
   "name": "python",
   "nbconvert_exporter": "python",
   "pygments_lexer": "ipython3",
   "version": "3.6.12"
  }
 },
 "nbformat": 4,
 "nbformat_minor": 4
}
