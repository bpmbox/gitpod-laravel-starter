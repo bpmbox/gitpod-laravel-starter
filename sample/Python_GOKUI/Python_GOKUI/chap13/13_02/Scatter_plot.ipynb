{
 "cells": [
  {
   "cell_type": "code",
   "execution_count": 1,
   "metadata": {},
   "outputs": [
    {
     "data": {
      "image/png": "[encoded data removed]",
      "text/plain": [
       "<Figure size 432x288 with 1 Axes>"
      ]
     },
     "metadata": {
      "needs_background": "light"
     },
     "output_type": "display_data"
    }
   ],
   "source": [
    "# 散布図の作成\n",
    "%matplotlib inline\n",
    "import matplotlib.pyplot as plt\n",
    "\n",
    "plt.plot([1, 2, 3, 4],     # xの値\n",
    "         [1, 4, 9, 16],    # yの値\n",
    "         marker='o',       # マーカーの形状はサークル(円)\n",
    "         linestyle='None') # ラインは非表示\n",
    "\n",
    "plt.axis([0,               # x軸の最小値\n",
    "          5,               # x軸の最大値\n",
    "          0,               # y軸の最小値\n",
    "          20])             # y軸の最大値\n",
    "\n",
    "plt.show()"
   ]
  },
  {
   "cell_type": "code",
   "execution_count": 2,
   "metadata": {},
   "outputs": [
    {
     "data": {
      "image/png": "[encoded data removed]",
      "text/plain": [
       "<Figure size 432x288 with 1 Axes>"
      ]
     },
     "metadata": {
      "needs_background": "light"
     },
     "output_type": "display_data"
    }
   ],
   "source": [
    "# マーカーのスタイルを設定する\n",
    "%matplotlib inline\n",
    "import matplotlib.pyplot as plt\n",
    "\n",
    "plt.plot([1, 2, 3, 4],           # xの値\n",
    "         [1, 4, 9, 16],          # yの値\n",
    "         marker='d',             # マーカーの形状はダイアモンド型\n",
    "         markersize=16,          # マーカー全体のサイズ\n",
    "         markerfacecolor='white',# マーカーの色は白\n",
    "         markeredgewidth=4,      # マーカーエッジのサイズ\n",
    "         markeredgecolor='red',  # マーカーエッジを赤にする\n",
    "         linestyle='None')       # ライン非表示\n",
    "\n",
    "plt.axis([0, 5, 0, 20])          # 軸のスケール\n",
    "plt.show()"
   ]
  },
  {
   "cell_type": "code",
   "execution_count": null,
   "metadata": {},
   "outputs": [],
   "source": []
  }
 ],
 "metadata": {
  "kernelspec": {
   "display_name": "Python 3",
   "language": "python",
   "name": "python3"
  },
  "language_info": {
   "codemirror_mode": {
    "name": "ipython",
    "version": 3
   },
   "file_extension": ".py",
   "mimetype": "text/x-python",
   "name": "python",
   "nbconvert_exporter": "python",
   "pygments_lexer": "ipython3",
   "version": "3.6.12"
  }
 },
 "nbformat": 4,
 "nbformat_minor": 4
}
